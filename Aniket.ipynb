{
 "cells": [
  {
   "cell_type": "markdown",
   "metadata": {
    "id": "d0UEXIr3D1yM"
   },
   "source": [
    "# This Assignment was done by Aniket Nandy\n"
   ]
  },
  {
   "cell_type": "markdown",
   "metadata": {
    "id": "abM8sg_d6oXj"
   },
   "source": [
    "# Q1 _anagram"
   ]
  },
  {
   "cell_type": "code",
   "execution_count": 6,
   "metadata": {
    "id": "uLxyZB5l6mUE"
   },
   "outputs": [],
   "source": [
    "def _anagram(word1,word2):\n",
    "    if (sorted(word1)==sorted(word2)):\n",
    "        return True\n",
    "    else:\n",
    "        return False\n"
   ]
  },
  {
   "cell_type": "markdown",
   "metadata": {
    "id": "lUcG9lYv70RY"
   },
   "source": [
    "# Q2 nested_sum"
   ]
  },
  {
   "cell_type": "code",
   "execution_count": 18,
   "metadata": {
    "id": "s99qgX1R7798"
   },
   "outputs": [],
   "source": [
    "def nested_sum(a):\n",
    "    total=0\n",
    "    for i in a:\n",
    "        if (type(i) == type([])):\n",
    "            total+=sum(i)\n",
    "        else:\n",
    "            total+=i\n",
    "    return total\n"
   ]
  },
  {
   "cell_type": "markdown",
   "metadata": {
    "id": "Dixbgeum8T-L"
   },
   "source": [
    "# Q3 listed_class"
   ]
  },
  {
   "cell_type": "code",
   "execution_count": 43,
   "metadata": {
    "id": "M52f-XPL8ZeZ"
   },
   "outputs": [],
   "source": [
    "def list_class(L):\n",
    "    a = []\n",
    "    b = []\n",
    "    c = []\n",
    "    d = []\n",
    "    for i in L:\n",
    "        if type(i) == int:\n",
    "            a.append(i)\n",
    "        elif type(i) == list:\n",
    "            b.append(i)\n",
    "        elif type(i) == str:\n",
    "            c.append(i)\n",
    "        elif type(i) == float:\n",
    "            d.append(i)\n",
    "    print(\"Integer Data type\",a)\n",
    "    print(\"List Data type\", b)\n",
    "    print(\"String Data type\",c)\n",
    "    print(\"Float data type\", d)"
   ]
  },
  {
   "cell_type": "markdown",
   "metadata": {
    "id": "IMKJ4Tr48zHC"
   },
   "source": [
    "# Q4 list_sorted"
   ]
  },
  {
   "cell_type": "code",
   "execution_count": null,
   "metadata": {
    "id": "8fn4Q2Gj9C6T"
   },
   "outputs": [],
   "source": [
    "def list_sorted(string):\n",
    "    after_split= string.split(\" \")\n",
    "    after_split.sort()\n",
    "    ans = \" \".join(safter_split)\n",
    "    return ans"
   ]
  },
  {
   "cell_type": "markdown",
   "metadata": {
    "id": "HDLaFk09_Saq"
   },
   "source": [
    "# Q5 Cardinal_fn"
   ]
  },
  {
   "cell_type": "code",
   "execution_count": 33,
   "metadata": {
    "id": "un3ymzQ8_XOL"
   },
   "outputs": [],
   "source": [
    "def cardinal_fn(a):\n",
    "    s=len(a)\n",
    "    if (s%2 == 0):\n",
    "        a=a[1:(s//2-1)] + a[(s//2)+1:s-1]\n",
    "        return a \n",
    "    else:\n",
    "        a=a[1:(s//2)] + a[(s//2)+1:s-1]\n",
    "        return a "
   ]
  },
  {
   "cell_type": "markdown",
   "metadata": {
    "id": "cnhylvd0DhN0"
   },
   "source": [
    "# tester "
   ]
  },
  {
   "cell_type": "code",
   "execution_count": 47,
   "metadata": {
    "colab": {
     "base_uri": "https://localhost:8080/"
    },
    "id": "Kcmd8qj-7Bps",
    "outputId": "00b4f0bc-4678-4cec-9fcf-97059491d56d"
   },
   "outputs": [
    {
     "name": "stdout",
     "output_type": "stream",
     "text": [
      "Output for Q1\n",
      "False\n",
      "\n",
      "Output for Q2\n",
      "0\n",
      "\n",
      "Output for Q3\n",
      "A hello world\n",
      "\n",
      "Output for Q4\n",
      "[2, 3, 5, 6]\n",
      "\n",
      "Output for Q5\n",
      "Integer Data type [1, 2, 3]\n",
      "List Data type [[1, 23]]\n",
      "String Data type ['asd']\n",
      "Float data type [4.34]\n"
     ]
    }
   ],
   "source": [
    "print(\"Output for Q1\")\n",
    "print(_anagram(\"qwerty\",\"ytreq\"))\n",
    "print(\"\")\n",
    "\n",
    "#Q2\n",
    "print(\"Output for Q2\")\n",
    "print(nested_sum([1,2,3,-4,[4,6],[8,9,11]]))\n",
    "print(\"\")\n",
    "\n",
    "#Q3\n",
    "print(\"Output for Q3\")\n",
    "print(list_sorted(\"hello world A\"))\n",
    "print(\"\")\n",
    "\n",
    "#Q4\n",
    "print(\"Output for Q4\")\n",
    "print(cardinal_fn([1,2,3,4,5,6,7]))\n",
    "print(\"\")\n",
    "\n",
    "#Q5\n",
    "print(\"Output for Q5\")\n",
    "list_class([1,2,3,\"asd\",4.34,[1,23]])"
   ]
  },
  {
   "cell_type": "code",
   "execution_count": null,
   "metadata": {
    "id": "BcQecCqM7Fk4"
   },
   "outputs": [],
   "source": []
  }
 ],
 "metadata": {
  "colab": {
   "name": "Aniket.ipynb",
   "provenance": []
  },
  "kernelspec": {
   "display_name": "Python 3",
   "language": "python",
   "name": "python3"
  },
  "language_info": {
   "codemirror_mode": {
    "name": "ipython",
    "version": 3
   },
   "file_extension": ".py",
   "mimetype": "text/x-python",
   "name": "python",
   "nbconvert_exporter": "python",
   "pygments_lexer": "ipython3",
   "version": "3.8.3"
  }
 },
 "nbformat": 4,
 "nbformat_minor": 1
}
