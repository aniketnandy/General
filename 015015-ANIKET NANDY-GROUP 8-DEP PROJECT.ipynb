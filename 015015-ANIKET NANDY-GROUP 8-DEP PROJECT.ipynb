{
 "cells": [
  {
   "cell_type": "markdown",
   "metadata": {},
   "source": [
    "## Project Problem   Total Marks 100"
   ]
  },
  {
   "cell_type": "markdown",
   "metadata": {},
   "source": [
    "### This data is collected on the companies listed in India on the Stock Exchange from the  https://www.moneycontrol.com/markets/indian-indices/. The data talks about the performance of the top 100 companies on the stock exchange. \n",
    "This data is about S&P BSE 100 on the Bombay Stock Exchange and is collected 0n 12/12/2020. The data is stored and provided to you in the file data_SP_BSE_100_20201212.xlsx format. \n",
    "The data can be read by pd.read_excel method on the pandas. Read the data and prform the exploratory analysis on this data. \n"
   ]
  },
  {
   "cell_type": "markdown",
   "metadata": {},
   "source": [
    "Your work will be judged on the basis of the type of questions it is able to provide answer to.\n",
    "You have to submit your answer by updating this file only. Document your responses appropriately. Please change the name of the file by appending your role number to it.\n",
    "\n",
    "PROJECT SUBMITTED BY:- GROUP 8\n",
    "\n",
    "015015-ANIKET NANDY\n",
    "\n",
    "015025-BISWADIP DAS\n",
    "\n",
    "015041-SAKSHI JAISWAL\n",
    "\n",
    "015042-SARTHAK KUMAR\n",
    "\n",
    "015048-AMRIT PULKIT GAUTAM\n",
    "\n",
    "015052-RAJAT CHAWLA\n"
   ]
  },
  {
   "cell_type": "markdown",
   "metadata": {},
   "source": [
    "# Importing Libraries"
   ]
  },
  {
   "cell_type": "code",
   "execution_count": 107,
   "metadata": {},
   "outputs": [],
   "source": [
    "import numpy as np\n",
    "import pandas as pd\n",
    "import seaborn as sns\n",
    "import matplotlib.pyplot as plt\n",
    "from sklearn import preprocessing\n",
    "%matplotlib inline"
   ]
  },
  {
   "cell_type": "markdown",
   "metadata": {},
   "source": [
    "- Importing necessary libraries\n",
    "- '%matplotlib inline' enables us to see plots without using plt.show() everytime"
   ]
  },
  {
   "cell_type": "markdown",
   "metadata": {},
   "source": [
    "# Loading Dataset"
   ]
  },
  {
   "cell_type": "code",
   "execution_count": 108,
   "metadata": {},
   "outputs": [
    {
     "data": {
      "text/html": [
       "<div>\n",
       "<style scoped>\n",
       "    .dataframe tbody tr th:only-of-type {\n",
       "        vertical-align: middle;\n",
       "    }\n",
       "\n",
       "    .dataframe tbody tr th {\n",
       "        vertical-align: top;\n",
       "    }\n",
       "\n",
       "    .dataframe thead th {\n",
       "        text-align: right;\n",
       "    }\n",
       "</style>\n",
       "<table border=\"1\" class=\"dataframe\">\n",
       "  <thead>\n",
       "    <tr style=\"text-align: right;\">\n",
       "      <th></th>\n",
       "      <th>Company</th>\n",
       "      <th>LTP</th>\n",
       "      <th>%Change</th>\n",
       "      <th>Volume</th>\n",
       "      <th>Buy Price</th>\n",
       "      <th>Sell Price</th>\n",
       "      <th>Buy Qty</th>\n",
       "      <th>Sell Qty</th>\n",
       "    </tr>\n",
       "  </thead>\n",
       "  <tbody>\n",
       "    <tr>\n",
       "      <th>0</th>\n",
       "      <td>ABB India</td>\n",
       "      <td>1174.450</td>\n",
       "      <td>1.320</td>\n",
       "      <td>94460</td>\n",
       "      <td>1174.450</td>\n",
       "      <td>1175.000</td>\n",
       "      <td>1</td>\n",
       "      <td>10</td>\n",
       "    </tr>\n",
       "    <tr>\n",
       "      <th>1</th>\n",
       "      <td>ACC</td>\n",
       "      <td>1607.450</td>\n",
       "      <td>-1.500</td>\n",
       "      <td>55679</td>\n",
       "      <td>1607.450</td>\n",
       "      <td>1607.450</td>\n",
       "      <td>102</td>\n",
       "      <td>38</td>\n",
       "    </tr>\n",
       "    <tr>\n",
       "      <th>2</th>\n",
       "      <td>Adani Ports</td>\n",
       "      <td>466.250</td>\n",
       "      <td>-1.000</td>\n",
       "      <td>154710</td>\n",
       "      <td>465.050</td>\n",
       "      <td>466.250</td>\n",
       "      <td>30</td>\n",
       "      <td>48</td>\n",
       "    </tr>\n",
       "    <tr>\n",
       "      <th>3</th>\n",
       "      <td>Ambuja Cements</td>\n",
       "      <td>246.100</td>\n",
       "      <td>-0.910</td>\n",
       "      <td>610794</td>\n",
       "      <td>246.100</td>\n",
       "      <td>246.100</td>\n",
       "      <td>9</td>\n",
       "      <td>48</td>\n",
       "    </tr>\n",
       "    <tr>\n",
       "      <th>4</th>\n",
       "      <td>Apollo Hospital</td>\n",
       "      <td>2360.400</td>\n",
       "      <td>-1.340</td>\n",
       "      <td>30709</td>\n",
       "      <td>2360.400</td>\n",
       "      <td>2369.500</td>\n",
       "      <td>497</td>\n",
       "      <td>2</td>\n",
       "    </tr>\n",
       "  </tbody>\n",
       "</table>\n",
       "</div>"
      ],
      "text/plain": [
       "           Company      LTP  %Change  Volume  Buy Price  Sell Price  Buy Qty  \\\n",
       "0        ABB India 1174.450    1.320   94460   1174.450    1175.000        1   \n",
       "1              ACC 1607.450   -1.500   55679   1607.450    1607.450      102   \n",
       "2      Adani Ports  466.250   -1.000  154710    465.050     466.250       30   \n",
       "3   Ambuja Cements  246.100   -0.910  610794    246.100     246.100        9   \n",
       "4  Apollo Hospital 2360.400   -1.340   30709   2360.400    2369.500      497   \n",
       "\n",
       "   Sell Qty  \n",
       "0        10  \n",
       "1        38  \n",
       "2        48  \n",
       "3        48  \n",
       "4         2  "
      ]
     },
     "execution_count": 108,
     "metadata": {},
     "output_type": "execute_result"
    }
   ],
   "source": [
    "df = pd.read_excel('data_SP.xlsx')\n",
    "df.head()"
   ]
  },
  {
   "cell_type": "markdown",
   "metadata": {},
   "source": [
    "- Gets a glimpse of the data"
   ]
  },
  {
   "cell_type": "markdown",
   "metadata": {},
   "source": [
    "# Data Insights"
   ]
  },
  {
   "cell_type": "code",
   "execution_count": 109,
   "metadata": {},
   "outputs": [
    {
     "data": {
      "text/plain": [
       "(100, 8)"
      ]
     },
     "execution_count": 109,
     "metadata": {},
     "output_type": "execute_result"
    }
   ],
   "source": [
    "df.shape"
   ]
  },
  {
   "cell_type": "markdown",
   "metadata": {},
   "source": [
    "- Gives us the dimensions of data in rows and columns"
   ]
  },
  {
   "cell_type": "code",
   "execution_count": 110,
   "metadata": {},
   "outputs": [
    {
     "data": {
      "text/plain": [
       "array(['Company', 'LTP', '%Change', 'Volume', 'Buy Price', 'Sell Price',\n",
       "       'Buy Qty', 'Sell Qty'], dtype=object)"
      ]
     },
     "execution_count": 110,
     "metadata": {},
     "output_type": "execute_result"
    }
   ],
   "source": [
    "df.columns.values "
   ]
  },
  {
   "cell_type": "code",
   "execution_count": 111,
   "metadata": {},
   "outputs": [
    {
     "name": "stdout",
     "output_type": "stream",
     "text": [
      "<class 'pandas.core.frame.DataFrame'>\n",
      "RangeIndex: 100 entries, 0 to 99\n",
      "Data columns (total 8 columns):\n",
      " #   Column      Non-Null Count  Dtype  \n",
      "---  ------      --------------  -----  \n",
      " 0   Company     100 non-null    object \n",
      " 1   LTP         100 non-null    float64\n",
      " 2   %Change     100 non-null    float64\n",
      " 3   Volume      100 non-null    int64  \n",
      " 4   Buy Price   100 non-null    float64\n",
      " 5   Sell Price  100 non-null    float64\n",
      " 6   Buy Qty     100 non-null    int64  \n",
      " 7   Sell Qty    100 non-null    int64  \n",
      "dtypes: float64(4), int64(3), object(1)\n",
      "memory usage: 6.4+ KB\n"
     ]
    }
   ],
   "source": [
    "df.info()"
   ]
  },
  {
   "cell_type": "markdown",
   "metadata": {},
   "source": [
    "- Helps us see the data type along with the count of null values (which are not present here)"
   ]
  },
  {
   "cell_type": "markdown",
   "metadata": {},
   "source": [
    "# Summary Statistics"
   ]
  },
  {
   "cell_type": "code",
   "execution_count": 114,
   "metadata": {},
   "outputs": [
    {
     "data": {
      "text/html": [
       "<div>\n",
       "<style scoped>\n",
       "    .dataframe tbody tr th:only-of-type {\n",
       "        vertical-align: middle;\n",
       "    }\n",
       "\n",
       "    .dataframe tbody tr th {\n",
       "        vertical-align: top;\n",
       "    }\n",
       "\n",
       "    .dataframe thead th {\n",
       "        text-align: right;\n",
       "    }\n",
       "</style>\n",
       "<table border=\"1\" class=\"dataframe\">\n",
       "  <thead>\n",
       "    <tr style=\"text-align: right;\">\n",
       "      <th></th>\n",
       "      <th>LTP</th>\n",
       "      <th>%Change</th>\n",
       "      <th>Volume</th>\n",
       "      <th>Buy Price</th>\n",
       "      <th>Sell Price</th>\n",
       "      <th>Buy Qty</th>\n",
       "      <th>Sell Qty</th>\n",
       "    </tr>\n",
       "  </thead>\n",
       "  <tbody>\n",
       "    <tr>\n",
       "      <th>count</th>\n",
       "      <td>100.000</td>\n",
       "      <td>100.000</td>\n",
       "      <td>100.000</td>\n",
       "      <td>100.000</td>\n",
       "      <td>100.000</td>\n",
       "      <td>100.000</td>\n",
       "      <td>100.000</td>\n",
       "    </tr>\n",
       "    <tr>\n",
       "      <th>mean</th>\n",
       "      <td>2397.677</td>\n",
       "      <td>0.661</td>\n",
       "      <td>2238465.320</td>\n",
       "      <td>2390.952</td>\n",
       "      <td>2404.424</td>\n",
       "      <td>7858.010</td>\n",
       "      <td>1009.360</td>\n",
       "    </tr>\n",
       "    <tr>\n",
       "      <th>std</th>\n",
       "      <td>8355.313</td>\n",
       "      <td>1.879</td>\n",
       "      <td>13001681.850</td>\n",
       "      <td>8325.568</td>\n",
       "      <td>8401.233</td>\n",
       "      <td>43522.482</td>\n",
       "      <td>6527.436</td>\n",
       "    </tr>\n",
       "    <tr>\n",
       "      <th>min</th>\n",
       "      <td>10.110</td>\n",
       "      <td>-2.440</td>\n",
       "      <td>496.000</td>\n",
       "      <td>10.150</td>\n",
       "      <td>0.000</td>\n",
       "      <td>1.000</td>\n",
       "      <td>0.000</td>\n",
       "    </tr>\n",
       "    <tr>\n",
       "      <th>25%</th>\n",
       "      <td>189.675</td>\n",
       "      <td>-0.515</td>\n",
       "      <td>54897.500</td>\n",
       "      <td>189.475</td>\n",
       "      <td>189.500</td>\n",
       "      <td>4.000</td>\n",
       "      <td>8.250</td>\n",
       "    </tr>\n",
       "    <tr>\n",
       "      <th>50%</th>\n",
       "      <td>539.975</td>\n",
       "      <td>0.155</td>\n",
       "      <td>208305.500</td>\n",
       "      <td>536.750</td>\n",
       "      <td>539.925</td>\n",
       "      <td>25.000</td>\n",
       "      <td>41.000</td>\n",
       "    </tr>\n",
       "    <tr>\n",
       "      <th>75%</th>\n",
       "      <td>1547.537</td>\n",
       "      <td>1.355</td>\n",
       "      <td>880066.500</td>\n",
       "      <td>1533.000</td>\n",
       "      <td>1546.250</td>\n",
       "      <td>251.500</td>\n",
       "      <td>173.750</td>\n",
       "    </tr>\n",
       "    <tr>\n",
       "      <th>max</th>\n",
       "      <td>77866.600</td>\n",
       "      <td>9.940</td>\n",
       "      <td>129928357.000</td>\n",
       "      <td>77600.000</td>\n",
       "      <td>78300.000</td>\n",
       "      <td>299884.000</td>\n",
       "      <td>64391.000</td>\n",
       "    </tr>\n",
       "  </tbody>\n",
       "</table>\n",
       "</div>"
      ],
      "text/plain": [
       "            LTP  %Change        Volume  Buy Price  Sell Price    Buy Qty  \\\n",
       "count   100.000  100.000       100.000    100.000     100.000    100.000   \n",
       "mean   2397.677    0.661   2238465.320   2390.952    2404.424   7858.010   \n",
       "std    8355.313    1.879  13001681.850   8325.568    8401.233  43522.482   \n",
       "min      10.110   -2.440       496.000     10.150       0.000      1.000   \n",
       "25%     189.675   -0.515     54897.500    189.475     189.500      4.000   \n",
       "50%     539.975    0.155    208305.500    536.750     539.925     25.000   \n",
       "75%    1547.537    1.355    880066.500   1533.000    1546.250    251.500   \n",
       "max   77866.600    9.940 129928357.000  77600.000   78300.000 299884.000   \n",
       "\n",
       "       Sell Qty  \n",
       "count   100.000  \n",
       "mean   1009.360  \n",
       "std    6527.436  \n",
       "min       0.000  \n",
       "25%       8.250  \n",
       "50%      41.000  \n",
       "75%     173.750  \n",
       "max   64391.000  "
      ]
     },
     "execution_count": 114,
     "metadata": {},
     "output_type": "execute_result"
    }
   ],
   "source": [
    "#pd.options.display.float_format = '{:.2f}'.format\n",
    "df['Volume'] = df['Volume'].astype('int64')\n",
    "df.describe()"
   ]
  },
  {
   "cell_type": "markdown",
   "metadata": {},
   "source": [
    "# Data Visualization"
   ]
  },
  {
   "cell_type": "markdown",
   "metadata": {},
   "source": [
    "- Correlation Matrix can be used to see if there is a correlation between the variables or the attributes\n",
    "- Darker region maeans stronger correlation"
   ]
  },
  {
   "cell_type": "markdown",
   "metadata": {},
   "source": [
    "## Correlation Matrix"
   ]
  },
  {
   "cell_type": "code",
   "execution_count": 115,
   "metadata": {},
   "outputs": [
    {
     "data": {
      "text/plain": [
       "<matplotlib.axes._subplots.AxesSubplot at 0x28e2a5863d0>"
      ]
     },
     "execution_count": 115,
     "metadata": {},
     "output_type": "execute_result"
    },
    {
     "data": {
      "image/png": "[encoded data removed]",
      "text/plain": [
       "<Figure size 432x288 with 2 Axes>"
      ]
     },
     "metadata": {
      "needs_background": "light"
     },
     "output_type": "display_data"
    }
   ],
   "source": [
    "plt.figure(figsize=(6,4))\n",
    "sns.heatmap(df.corr(),cmap='Blues',annot=False)"
   ]
  },
  {
   "cell_type": "markdown",
   "metadata": {},
   "source": [
    "## Correlation Matrix with Values"
   ]
  },
  {
   "cell_type": "code",
   "execution_count": 25,
   "metadata": {},
   "outputs": [
    {
     "data": {
      "text/plain": [
       "<matplotlib.axes._subplots.AxesSubplot at 0x28e25380b50>"
      ]
     },
     "execution_count": 25,
     "metadata": {},
     "output_type": "execute_result"
    },
    {
     "data": {
      "image/png": "[encoded data removed]",
      "text/plain": [
       "<Figure size 432x288 with 2 Axes>"
      ]
     },
     "metadata": {
      "needs_background": "light"
     },
     "output_type": "display_data"
    }
   ],
   "source": [
    "sns.heatmap(df.corr(),cmap='Blues',annot=T)"
   ]
  },
  {
   "cell_type": "markdown",
   "metadata": {},
   "source": [
    "# Scatter Plot for attributes"
   ]
  },
  {
   "cell_type": "code",
   "execution_count": 47,
   "metadata": {},
   "outputs": [],
   "source": [
    "x = df[['Volume']].values.astype(float)\n",
    "min_max_scaler = preprocessing.MinMaxScaler()\n",
    "x_scaled = min_max_scaler.fit_transform(x)\n",
    "df_normalized_volume = pd.DataFrame(x_scaled)\n",
    "df['Volume'] = df_normalized_volume #Volume column was normalized to make it reader friendly"
   ]
  },
  {
   "cell_type": "code",
   "execution_count": 117,
   "metadata": {},
   "outputs": [
    {
     "data": {
      "text/plain": [
       "<seaborn.axisgrid.PairGrid at 0x28e2a2411c0>"
      ]
     },
     "execution_count": 117,
     "metadata": {},
     "output_type": "execute_result"
    },
    {
     "data": {
      "image/png": "[encoded data removed]",
      "text/plain": [
       "<Figure size 1260x1260 with 56 Axes>"
      ]
     },
     "metadata": {
      "needs_background": "light"
     },
     "output_type": "display_data"
    }
   ],
   "source": [
    "sns.pairplot(df) # Makes Scatter plots between all the numeric attributes"
   ]
  },
  {
   "cell_type": "markdown",
   "metadata": {},
   "source": [
    "- Along with the Correlation Matrix, Scatter plots can also be used for insights regarding relationship between the attributes if any."
   ]
  },
  {
   "cell_type": "markdown",
   "metadata": {},
   "source": [
    "# Checking Outliers in the Column data"
   ]
  },
  {
   "cell_type": "code",
   "execution_count": 48,
   "metadata": {},
   "outputs": [
    {
     "data": {
      "image/png": "[encoded data removed]",
      "text/plain": [
       "<Figure size 576x2835 with 7 Axes>"
      ]
     },
     "metadata": {
      "needs_background": "light"
     },
     "output_type": "display_data"
    }
   ],
   "source": [
    "l = df.columns.values\n",
    "number_of_columns=8\n",
    "number_of_rows = len(l)-1/number_of_columns\n",
    "plt.figure(figsize=(number_of_columns,5*number_of_rows))\n",
    "for i in range(1,len(l)):\n",
    "    plt.subplot(number_of_rows + 1,number_of_columns,i+1)\n",
    "    sns.set_style('whitegrid')\n",
    "    sns.boxplot(df[l[i]],color='green',orient='v')\n",
    "    plt.tight_layout()"
   ]
  },
  {
   "cell_type": "markdown",
   "metadata": {},
   "source": [
    "- Box-and-Whisker Plots have been used to show the distribution of data\n",
    "- Every column has significant amount of outliers (with the least being in Change%)"
   ]
  },
  {
   "cell_type": "markdown",
   "metadata": {},
   "source": [
    "# Distribution Skewness"
   ]
  },
  {
   "cell_type": "code",
   "execution_count": 49,
   "metadata": {},
   "outputs": [
    {
     "data": {
      "image/png": "[encoded data removed]",
      "text/plain": [
       "<Figure size 1152x2835 with 7 Axes>"
      ]
     },
     "metadata": {},
     "output_type": "display_data"
    }
   ],
   "source": [
    "plt.figure(figsize=(2*number_of_columns,5*number_of_rows))\n",
    "for i in range(1,len(l)):\n",
    "    plt.subplot(number_of_rows + 1,number_of_columns,i+1)\n",
    "    sns.distplot(df[l[i]],kde=True) "
   ]
  },
  {
   "cell_type": "markdown",
   "metadata": {},
   "source": [
    "# Day's Biggest Movers  "
   ]
  },
  {
   "cell_type": "markdown",
   "metadata": {},
   "source": [
    "### Top 15 Biggest Gainers (by % change)"
   ]
  },
  {
   "cell_type": "code",
   "execution_count": 82,
   "metadata": {},
   "outputs": [
    {
     "data": {
      "text/html": [
       "<div>\n",
       "<style scoped>\n",
       "    .dataframe tbody tr th:only-of-type {\n",
       "        vertical-align: middle;\n",
       "    }\n",
       "\n",
       "    .dataframe tbody tr th {\n",
       "        vertical-align: top;\n",
       "    }\n",
       "\n",
       "    .dataframe thead th {\n",
       "        text-align: right;\n",
       "    }\n",
       "</style>\n",
       "<table border=\"1\" class=\"dataframe\">\n",
       "  <thead>\n",
       "    <tr style=\"text-align: right;\">\n",
       "      <th></th>\n",
       "      <th>Company</th>\n",
       "      <th>%Change</th>\n",
       "      <th>Volume</th>\n",
       "      <th>LTP</th>\n",
       "    </tr>\n",
       "  </thead>\n",
       "  <tbody>\n",
       "    <tr>\n",
       "      <th>79</th>\n",
       "      <td>Reliance Infra</td>\n",
       "      <td>9.94</td>\n",
       "      <td>1012981</td>\n",
       "      <td>28.75</td>\n",
       "    </tr>\n",
       "    <tr>\n",
       "      <th>69</th>\n",
       "      <td>ONGC</td>\n",
       "      <td>5.68</td>\n",
       "      <td>7143570</td>\n",
       "      <td>96.80</td>\n",
       "    </tr>\n",
       "    <tr>\n",
       "      <th>73</th>\n",
       "      <td>PNB</td>\n",
       "      <td>5.61</td>\n",
       "      <td>4594582</td>\n",
       "      <td>40.50</td>\n",
       "    </tr>\n",
       "    <tr>\n",
       "      <th>68</th>\n",
       "      <td>NTPC</td>\n",
       "      <td>5.30</td>\n",
       "      <td>3435453</td>\n",
       "      <td>102.40</td>\n",
       "    </tr>\n",
       "    <tr>\n",
       "      <th>77</th>\n",
       "      <td>Rel Capital</td>\n",
       "      <td>4.97</td>\n",
       "      <td>547805</td>\n",
       "      <td>12.68</td>\n",
       "    </tr>\n",
       "    <tr>\n",
       "      <th>35</th>\n",
       "      <td>GAIL</td>\n",
       "      <td>4.92</td>\n",
       "      <td>2802536</td>\n",
       "      <td>125.90</td>\n",
       "    </tr>\n",
       "    <tr>\n",
       "      <th>80</th>\n",
       "      <td>SAIL</td>\n",
       "      <td>3.59</td>\n",
       "      <td>8113246</td>\n",
       "      <td>57.75</td>\n",
       "    </tr>\n",
       "    <tr>\n",
       "      <th>76</th>\n",
       "      <td>REC</td>\n",
       "      <td>2.99</td>\n",
       "      <td>504801</td>\n",
       "      <td>136.15</td>\n",
       "    </tr>\n",
       "    <tr>\n",
       "      <th>67</th>\n",
       "      <td>NMDC</td>\n",
       "      <td>2.83</td>\n",
       "      <td>1050849</td>\n",
       "      <td>110.85</td>\n",
       "    </tr>\n",
       "    <tr>\n",
       "      <th>55</th>\n",
       "      <td>Jubilant Food</td>\n",
       "      <td>2.72</td>\n",
       "      <td>30891</td>\n",
       "      <td>2647.50</td>\n",
       "    </tr>\n",
       "    <tr>\n",
       "      <th>99</th>\n",
       "      <td>Vodafone Idea</td>\n",
       "      <td>2.64</td>\n",
       "      <td>129928357</td>\n",
       "      <td>10.11</td>\n",
       "    </tr>\n",
       "    <tr>\n",
       "      <th>70</th>\n",
       "      <td>Petronet LNG</td>\n",
       "      <td>2.63</td>\n",
       "      <td>216876</td>\n",
       "      <td>261.65</td>\n",
       "    </tr>\n",
       "    <tr>\n",
       "      <th>14</th>\n",
       "      <td>Bharat Forge</td>\n",
       "      <td>2.62</td>\n",
       "      <td>170901</td>\n",
       "      <td>553.10</td>\n",
       "    </tr>\n",
       "    <tr>\n",
       "      <th>62</th>\n",
       "      <td>Marico</td>\n",
       "      <td>2.61</td>\n",
       "      <td>237839</td>\n",
       "      <td>414.85</td>\n",
       "    </tr>\n",
       "    <tr>\n",
       "      <th>25</th>\n",
       "      <td>Coal India</td>\n",
       "      <td>2.52</td>\n",
       "      <td>2730325</td>\n",
       "      <td>138.25</td>\n",
       "    </tr>\n",
       "  </tbody>\n",
       "</table>\n",
       "</div>"
      ],
      "text/plain": [
       "           Company  %Change     Volume      LTP\n",
       "79  Reliance Infra     9.94    1012981    28.75\n",
       "69            ONGC     5.68    7143570    96.80\n",
       "73             PNB     5.61    4594582    40.50\n",
       "68            NTPC     5.30    3435453   102.40\n",
       "77     Rel Capital     4.97     547805    12.68\n",
       "35            GAIL     4.92    2802536   125.90\n",
       "80            SAIL     3.59    8113246    57.75\n",
       "76             REC     2.99     504801   136.15\n",
       "67            NMDC     2.83    1050849   110.85\n",
       "55   Jubilant Food     2.72      30891  2647.50\n",
       "99   Vodafone Idea     2.64  129928357    10.11\n",
       "70    Petronet LNG     2.63     216876   261.65\n",
       "14    Bharat Forge     2.62     170901   553.10\n",
       "62          Marico     2.61     237839   414.85\n",
       "25      Coal India     2.52    2730325   138.25"
      ]
     },
     "execution_count": 82,
     "metadata": {},
     "output_type": "execute_result"
    }
   ],
   "source": [
    "df[['Company', '%Change','Volume','LTP']].sort_values('%Change', ascending=False).nlargest(15, '%Change')"
   ]
  },
  {
   "cell_type": "markdown",
   "metadata": {},
   "source": [
    "### Top 15 Biggest Losers (by % change)"
   ]
  },
  {
   "cell_type": "code",
   "execution_count": 67,
   "metadata": {},
   "outputs": [
    {
     "data": {
      "text/html": [
       "<div>\n",
       "<style scoped>\n",
       "    .dataframe tbody tr th:only-of-type {\n",
       "        vertical-align: middle;\n",
       "    }\n",
       "\n",
       "    .dataframe tbody tr th {\n",
       "        vertical-align: top;\n",
       "    }\n",
       "\n",
       "    .dataframe thead th {\n",
       "        text-align: right;\n",
       "    }\n",
       "</style>\n",
       "<table border=\"1\" class=\"dataframe\">\n",
       "  <thead>\n",
       "    <tr style=\"text-align: right;\">\n",
       "      <th></th>\n",
       "      <th>Company</th>\n",
       "      <th>%Change</th>\n",
       "      <th>Volume</th>\n",
       "      <th>LTP</th>\n",
       "    </tr>\n",
       "  </thead>\n",
       "  <tbody>\n",
       "    <tr>\n",
       "      <th>30</th>\n",
       "      <td>Divis Labs</td>\n",
       "      <td>-2.44</td>\n",
       "      <td>24560</td>\n",
       "      <td>3640.85</td>\n",
       "    </tr>\n",
       "    <tr>\n",
       "      <th>8</th>\n",
       "      <td>Axis Bank</td>\n",
       "      <td>-2.19</td>\n",
       "      <td>481870</td>\n",
       "      <td>613.30</td>\n",
       "    </tr>\n",
       "    <tr>\n",
       "      <th>1</th>\n",
       "      <td>ACC</td>\n",
       "      <td>-1.50</td>\n",
       "      <td>55679</td>\n",
       "      <td>1607.45</td>\n",
       "    </tr>\n",
       "    <tr>\n",
       "      <th>72</th>\n",
       "      <td>Piramal Enter</td>\n",
       "      <td>-1.41</td>\n",
       "      <td>40088</td>\n",
       "      <td>1433.65</td>\n",
       "    </tr>\n",
       "    <tr>\n",
       "      <th>12</th>\n",
       "      <td>Bank of Baroda</td>\n",
       "      <td>-1.36</td>\n",
       "      <td>5238335</td>\n",
       "      <td>65.45</td>\n",
       "    </tr>\n",
       "    <tr>\n",
       "      <th>4</th>\n",
       "      <td>Apollo Hospital</td>\n",
       "      <td>-1.34</td>\n",
       "      <td>30709</td>\n",
       "      <td>2360.40</td>\n",
       "    </tr>\n",
       "    <tr>\n",
       "      <th>60</th>\n",
       "      <td>M&amp;M</td>\n",
       "      <td>-1.18</td>\n",
       "      <td>188125</td>\n",
       "      <td>727.35</td>\n",
       "    </tr>\n",
       "    <tr>\n",
       "      <th>2</th>\n",
       "      <td>Adani Ports</td>\n",
       "      <td>-1.00</td>\n",
       "      <td>154710</td>\n",
       "      <td>466.25</td>\n",
       "    </tr>\n",
       "    <tr>\n",
       "      <th>36</th>\n",
       "      <td>Glenmark</td>\n",
       "      <td>-0.96</td>\n",
       "      <td>59944</td>\n",
       "      <td>526.85</td>\n",
       "    </tr>\n",
       "    <tr>\n",
       "      <th>92</th>\n",
       "      <td>Tech Mahindra</td>\n",
       "      <td>-0.94</td>\n",
       "      <td>93925</td>\n",
       "      <td>919.00</td>\n",
       "    </tr>\n",
       "    <tr>\n",
       "      <th>33</th>\n",
       "      <td>Eicher Motors</td>\n",
       "      <td>-0.93</td>\n",
       "      <td>43952</td>\n",
       "      <td>2469.55</td>\n",
       "    </tr>\n",
       "    <tr>\n",
       "      <th>24</th>\n",
       "      <td>Cipla</td>\n",
       "      <td>-0.92</td>\n",
       "      <td>149744</td>\n",
       "      <td>755.90</td>\n",
       "    </tr>\n",
       "    <tr>\n",
       "      <th>3</th>\n",
       "      <td>Ambuja Cements</td>\n",
       "      <td>-0.91</td>\n",
       "      <td>610794</td>\n",
       "      <td>246.10</td>\n",
       "    </tr>\n",
       "    <tr>\n",
       "      <th>38</th>\n",
       "      <td>Grasim</td>\n",
       "      <td>-0.85</td>\n",
       "      <td>31393</td>\n",
       "      <td>902.10</td>\n",
       "    </tr>\n",
       "    <tr>\n",
       "      <th>5</th>\n",
       "      <td>Ashok Leyland</td>\n",
       "      <td>-0.84</td>\n",
       "      <td>2166353</td>\n",
       "      <td>94.10</td>\n",
       "    </tr>\n",
       "  </tbody>\n",
       "</table>\n",
       "</div>"
      ],
      "text/plain": [
       "            Company  %Change   Volume      LTP\n",
       "30       Divis Labs    -2.44    24560  3640.85\n",
       "8         Axis Bank    -2.19   481870   613.30\n",
       "1               ACC    -1.50    55679  1607.45\n",
       "72    Piramal Enter    -1.41    40088  1433.65\n",
       "12   Bank of Baroda    -1.36  5238335    65.45\n",
       "4   Apollo Hospital    -1.34    30709  2360.40\n",
       "60              M&M    -1.18   188125   727.35\n",
       "2       Adani Ports    -1.00   154710   466.25\n",
       "36         Glenmark    -0.96    59944   526.85\n",
       "92    Tech Mahindra    -0.94    93925   919.00\n",
       "33    Eicher Motors    -0.93    43952  2469.55\n",
       "24            Cipla    -0.92   149744   755.90\n",
       "3    Ambuja Cements    -0.91   610794   246.10\n",
       "38           Grasim    -0.85    31393   902.10\n",
       "5     Ashok Leyland    -0.84  2166353    94.10"
      ]
     },
     "execution_count": 67,
     "metadata": {},
     "output_type": "execute_result"
    }
   ],
   "source": [
    "df[['Company', '%Change','Volume','LTP']].sort_values('%Change', ascending=True).nsmallest(15, '%Change')"
   ]
  },
  {
   "cell_type": "markdown",
   "metadata": {},
   "source": [
    "# Share Prices"
   ]
  },
  {
   "cell_type": "markdown",
   "metadata": {},
   "source": [
    "### Top 15 Most Expensive stocks"
   ]
  },
  {
   "cell_type": "code",
   "execution_count": 70,
   "metadata": {},
   "outputs": [
    {
     "data": {
      "text/html": [
       "<div>\n",
       "<style scoped>\n",
       "    .dataframe tbody tr th:only-of-type {\n",
       "        vertical-align: middle;\n",
       "    }\n",
       "\n",
       "    .dataframe tbody tr th {\n",
       "        vertical-align: top;\n",
       "    }\n",
       "\n",
       "    .dataframe thead th {\n",
       "        text-align: right;\n",
       "    }\n",
       "</style>\n",
       "<table border=\"1\" class=\"dataframe\">\n",
       "  <thead>\n",
       "    <tr style=\"text-align: right;\">\n",
       "      <th></th>\n",
       "      <th>Company</th>\n",
       "      <th>LTP</th>\n",
       "      <th>%Change</th>\n",
       "      <th>Volume</th>\n",
       "    </tr>\n",
       "  </thead>\n",
       "  <tbody>\n",
       "    <tr>\n",
       "      <th>65</th>\n",
       "      <td>MRF</td>\n",
       "      <td>77866.60</td>\n",
       "      <td>0.43</td>\n",
       "      <td>496</td>\n",
       "    </tr>\n",
       "    <tr>\n",
       "      <th>82</th>\n",
       "      <td>Shree Cements</td>\n",
       "      <td>23692.00</td>\n",
       "      <td>-0.06</td>\n",
       "      <td>570</td>\n",
       "    </tr>\n",
       "    <tr>\n",
       "      <th>66</th>\n",
       "      <td>Nestle</td>\n",
       "      <td>18403.00</td>\n",
       "      <td>0.22</td>\n",
       "      <td>5095</td>\n",
       "    </tr>\n",
       "    <tr>\n",
       "      <th>19</th>\n",
       "      <td>Bosch</td>\n",
       "      <td>13140.10</td>\n",
       "      <td>-0.40</td>\n",
       "      <td>2560</td>\n",
       "    </tr>\n",
       "    <tr>\n",
       "      <th>11</th>\n",
       "      <td>Bajaj Finserv</td>\n",
       "      <td>8998.65</td>\n",
       "      <td>-0.31</td>\n",
       "      <td>21381</td>\n",
       "    </tr>\n",
       "    <tr>\n",
       "      <th>63</th>\n",
       "      <td>Maruti Suzuki</td>\n",
       "      <td>7732.25</td>\n",
       "      <td>-0.03</td>\n",
       "      <td>15710</td>\n",
       "    </tr>\n",
       "    <tr>\n",
       "      <th>32</th>\n",
       "      <td>Dr Reddys Labs</td>\n",
       "      <td>5015.90</td>\n",
       "      <td>-0.71</td>\n",
       "      <td>20973</td>\n",
       "    </tr>\n",
       "    <tr>\n",
       "      <th>95</th>\n",
       "      <td>UltraTechCement</td>\n",
       "      <td>5013.45</td>\n",
       "      <td>1.05</td>\n",
       "      <td>22550</td>\n",
       "    </tr>\n",
       "    <tr>\n",
       "      <th>10</th>\n",
       "      <td>Bajaj Finance</td>\n",
       "      <td>4843.10</td>\n",
       "      <td>1.05</td>\n",
       "      <td>112161</td>\n",
       "    </tr>\n",
       "    <tr>\n",
       "      <th>21</th>\n",
       "      <td>Britannia</td>\n",
       "      <td>3734.30</td>\n",
       "      <td>-0.12</td>\n",
       "      <td>15183</td>\n",
       "    </tr>\n",
       "    <tr>\n",
       "      <th>30</th>\n",
       "      <td>Divis Labs</td>\n",
       "      <td>3640.85</td>\n",
       "      <td>-2.44</td>\n",
       "      <td>24560</td>\n",
       "    </tr>\n",
       "    <tr>\n",
       "      <th>9</th>\n",
       "      <td>Bajaj Auto</td>\n",
       "      <td>3327.00</td>\n",
       "      <td>1.11</td>\n",
       "      <td>12183</td>\n",
       "    </tr>\n",
       "    <tr>\n",
       "      <th>43</th>\n",
       "      <td>Hero Motocorp</td>\n",
       "      <td>3188.05</td>\n",
       "      <td>-0.20</td>\n",
       "      <td>49201</td>\n",
       "    </tr>\n",
       "    <tr>\n",
       "      <th>91</th>\n",
       "      <td>TCS</td>\n",
       "      <td>2783.45</td>\n",
       "      <td>-0.03</td>\n",
       "      <td>55137</td>\n",
       "    </tr>\n",
       "    <tr>\n",
       "      <th>55</th>\n",
       "      <td>Jubilant Food</td>\n",
       "      <td>2647.50</td>\n",
       "      <td>2.72</td>\n",
       "      <td>30891</td>\n",
       "    </tr>\n",
       "  </tbody>\n",
       "</table>\n",
       "</div>"
      ],
      "text/plain": [
       "            Company       LTP  %Change  Volume\n",
       "65              MRF  77866.60     0.43     496\n",
       "82    Shree Cements  23692.00    -0.06     570\n",
       "66           Nestle  18403.00     0.22    5095\n",
       "19            Bosch  13140.10    -0.40    2560\n",
       "11    Bajaj Finserv   8998.65    -0.31   21381\n",
       "63    Maruti Suzuki   7732.25    -0.03   15710\n",
       "32   Dr Reddys Labs   5015.90    -0.71   20973\n",
       "95  UltraTechCement   5013.45     1.05   22550\n",
       "10    Bajaj Finance   4843.10     1.05  112161\n",
       "21        Britannia   3734.30    -0.12   15183\n",
       "30       Divis Labs   3640.85    -2.44   24560\n",
       "9        Bajaj Auto   3327.00     1.11   12183\n",
       "43    Hero Motocorp   3188.05    -0.20   49201\n",
       "91              TCS   2783.45    -0.03   55137\n",
       "55    Jubilant Food   2647.50     2.72   30891"
      ]
     },
     "execution_count": 70,
     "metadata": {},
     "output_type": "execute_result"
    }
   ],
   "source": [
    "df[['Company','LTP', '%Change','Volume']].sort_values('LTP', ascending=False).nlargest(15, 'LTP')"
   ]
  },
  {
   "cell_type": "markdown",
   "metadata": {},
   "source": [
    "### Top 15 Least Expensive Stocks"
   ]
  },
  {
   "cell_type": "code",
   "execution_count": 72,
   "metadata": {},
   "outputs": [
    {
     "data": {
      "text/html": [
       "<div>\n",
       "<style scoped>\n",
       "    .dataframe tbody tr th:only-of-type {\n",
       "        vertical-align: middle;\n",
       "    }\n",
       "\n",
       "    .dataframe tbody tr th {\n",
       "        vertical-align: top;\n",
       "    }\n",
       "\n",
       "    .dataframe thead th {\n",
       "        text-align: right;\n",
       "    }\n",
       "</style>\n",
       "<table border=\"1\" class=\"dataframe\">\n",
       "  <thead>\n",
       "    <tr style=\"text-align: right;\">\n",
       "      <th></th>\n",
       "      <th>Company</th>\n",
       "      <th>LTP</th>\n",
       "      <th>%Change</th>\n",
       "      <th>Volume</th>\n",
       "    </tr>\n",
       "  </thead>\n",
       "  <tbody>\n",
       "    <tr>\n",
       "      <th>99</th>\n",
       "      <td>Vodafone Idea</td>\n",
       "      <td>10.11</td>\n",
       "      <td>2.64</td>\n",
       "      <td>129928357</td>\n",
       "    </tr>\n",
       "    <tr>\n",
       "      <th>77</th>\n",
       "      <td>Rel Capital</td>\n",
       "      <td>12.68</td>\n",
       "      <td>4.97</td>\n",
       "      <td>547805</td>\n",
       "    </tr>\n",
       "    <tr>\n",
       "      <th>79</th>\n",
       "      <td>Reliance Infra</td>\n",
       "      <td>28.75</td>\n",
       "      <td>9.94</td>\n",
       "      <td>1012981</td>\n",
       "    </tr>\n",
       "    <tr>\n",
       "      <th>17</th>\n",
       "      <td>BHEL</td>\n",
       "      <td>35.95</td>\n",
       "      <td>0.70</td>\n",
       "      <td>4712191</td>\n",
       "    </tr>\n",
       "    <tr>\n",
       "      <th>48</th>\n",
       "      <td>IDFC First Bank</td>\n",
       "      <td>37.45</td>\n",
       "      <td>-0.40</td>\n",
       "      <td>2400752</td>\n",
       "    </tr>\n",
       "    <tr>\n",
       "      <th>73</th>\n",
       "      <td>PNB</td>\n",
       "      <td>40.50</td>\n",
       "      <td>5.61</td>\n",
       "      <td>4594582</td>\n",
       "    </tr>\n",
       "    <tr>\n",
       "      <th>80</th>\n",
       "      <td>SAIL</td>\n",
       "      <td>57.75</td>\n",
       "      <td>3.59</td>\n",
       "      <td>8113246</td>\n",
       "    </tr>\n",
       "    <tr>\n",
       "      <th>12</th>\n",
       "      <td>Bank of Baroda</td>\n",
       "      <td>65.45</td>\n",
       "      <td>-1.36</td>\n",
       "      <td>5238335</td>\n",
       "    </tr>\n",
       "    <tr>\n",
       "      <th>89</th>\n",
       "      <td>Tata Power</td>\n",
       "      <td>72.80</td>\n",
       "      <td>0.28</td>\n",
       "      <td>2306227</td>\n",
       "    </tr>\n",
       "    <tr>\n",
       "      <th>94</th>\n",
       "      <td>TML-D</td>\n",
       "      <td>74.70</td>\n",
       "      <td>-0.13</td>\n",
       "      <td>252045</td>\n",
       "    </tr>\n",
       "    <tr>\n",
       "      <th>52</th>\n",
       "      <td>IOC</td>\n",
       "      <td>93.85</td>\n",
       "      <td>1.46</td>\n",
       "      <td>3583246</td>\n",
       "    </tr>\n",
       "    <tr>\n",
       "      <th>5</th>\n",
       "      <td>Ashok Leyland</td>\n",
       "      <td>94.10</td>\n",
       "      <td>-0.84</td>\n",
       "      <td>2166353</td>\n",
       "    </tr>\n",
       "    <tr>\n",
       "      <th>69</th>\n",
       "      <td>ONGC</td>\n",
       "      <td>96.80</td>\n",
       "      <td>5.68</td>\n",
       "      <td>7143570</td>\n",
       "    </tr>\n",
       "    <tr>\n",
       "      <th>68</th>\n",
       "      <td>NTPC</td>\n",
       "      <td>102.40</td>\n",
       "      <td>5.30</td>\n",
       "      <td>3435453</td>\n",
       "    </tr>\n",
       "    <tr>\n",
       "      <th>67</th>\n",
       "      <td>NMDC</td>\n",
       "      <td>110.85</td>\n",
       "      <td>2.83</td>\n",
       "      <td>1050849</td>\n",
       "    </tr>\n",
       "  </tbody>\n",
       "</table>\n",
       "</div>"
      ],
      "text/plain": [
       "            Company     LTP  %Change     Volume\n",
       "99    Vodafone Idea   10.11     2.64  129928357\n",
       "77      Rel Capital   12.68     4.97     547805\n",
       "79   Reliance Infra   28.75     9.94    1012981\n",
       "17             BHEL   35.95     0.70    4712191\n",
       "48  IDFC First Bank   37.45    -0.40    2400752\n",
       "73              PNB   40.50     5.61    4594582\n",
       "80             SAIL   57.75     3.59    8113246\n",
       "12   Bank of Baroda   65.45    -1.36    5238335\n",
       "89       Tata Power   72.80     0.28    2306227\n",
       "94            TML-D   74.70    -0.13     252045\n",
       "52              IOC   93.85     1.46    3583246\n",
       "5     Ashok Leyland   94.10    -0.84    2166353\n",
       "69             ONGC   96.80     5.68    7143570\n",
       "68             NTPC  102.40     5.30    3435453\n",
       "67             NMDC  110.85     2.83    1050849"
      ]
     },
     "execution_count": 72,
     "metadata": {},
     "output_type": "execute_result"
    }
   ],
   "source": [
    "df[['Company','LTP', '%Change','Volume']].sort_values('LTP', ascending=False).nsmallest(15, 'LTP')"
   ]
  },
  {
   "cell_type": "markdown",
   "metadata": {},
   "source": [
    "# Stock activity (by Volume)"
   ]
  },
  {
   "cell_type": "markdown",
   "metadata": {},
   "source": [
    "### Top 10 Stocks with least activity"
   ]
  },
  {
   "cell_type": "code",
   "execution_count": 94,
   "metadata": {},
   "outputs": [
    {
     "data": {
      "text/html": [
       "<div>\n",
       "<style scoped>\n",
       "    .dataframe tbody tr th:only-of-type {\n",
       "        vertical-align: middle;\n",
       "    }\n",
       "\n",
       "    .dataframe tbody tr th {\n",
       "        vertical-align: top;\n",
       "    }\n",
       "\n",
       "    .dataframe thead th {\n",
       "        text-align: right;\n",
       "    }\n",
       "</style>\n",
       "<table border=\"1\" class=\"dataframe\">\n",
       "  <thead>\n",
       "    <tr style=\"text-align: right;\">\n",
       "      <th></th>\n",
       "      <th>Company</th>\n",
       "      <th>Volume</th>\n",
       "      <th>LTP</th>\n",
       "      <th>%Change</th>\n",
       "    </tr>\n",
       "  </thead>\n",
       "  <tbody>\n",
       "    <tr>\n",
       "      <th>65</th>\n",
       "      <td>MRF</td>\n",
       "      <td>496</td>\n",
       "      <td>77866.60</td>\n",
       "      <td>0.43</td>\n",
       "    </tr>\n",
       "    <tr>\n",
       "      <th>82</th>\n",
       "      <td>Shree Cements</td>\n",
       "      <td>570</td>\n",
       "      <td>23692.00</td>\n",
       "      <td>-0.06</td>\n",
       "    </tr>\n",
       "    <tr>\n",
       "      <th>19</th>\n",
       "      <td>Bosch</td>\n",
       "      <td>2560</td>\n",
       "      <td>13140.10</td>\n",
       "      <td>-0.40</td>\n",
       "    </tr>\n",
       "    <tr>\n",
       "      <th>66</th>\n",
       "      <td>Nestle</td>\n",
       "      <td>5095</td>\n",
       "      <td>18403.00</td>\n",
       "      <td>0.22</td>\n",
       "    </tr>\n",
       "    <tr>\n",
       "      <th>9</th>\n",
       "      <td>Bajaj Auto</td>\n",
       "      <td>12183</td>\n",
       "      <td>3327.00</td>\n",
       "      <td>1.11</td>\n",
       "    </tr>\n",
       "    <tr>\n",
       "      <th>84</th>\n",
       "      <td>Siemens</td>\n",
       "      <td>12853</td>\n",
       "      <td>1538.25</td>\n",
       "      <td>0.09</td>\n",
       "    </tr>\n",
       "    <tr>\n",
       "      <th>21</th>\n",
       "      <td>Britannia</td>\n",
       "      <td>15183</td>\n",
       "      <td>3734.30</td>\n",
       "      <td>-0.12</td>\n",
       "    </tr>\n",
       "    <tr>\n",
       "      <th>63</th>\n",
       "      <td>Maruti Suzuki</td>\n",
       "      <td>15710</td>\n",
       "      <td>7732.25</td>\n",
       "      <td>-0.03</td>\n",
       "    </tr>\n",
       "    <tr>\n",
       "      <th>32</th>\n",
       "      <td>Dr Reddys Labs</td>\n",
       "      <td>20973</td>\n",
       "      <td>5015.90</td>\n",
       "      <td>-0.71</td>\n",
       "    </tr>\n",
       "    <tr>\n",
       "      <th>11</th>\n",
       "      <td>Bajaj Finserv</td>\n",
       "      <td>21381</td>\n",
       "      <td>8998.65</td>\n",
       "      <td>-0.31</td>\n",
       "    </tr>\n",
       "  </tbody>\n",
       "</table>\n",
       "</div>"
      ],
      "text/plain": [
       "           Company  Volume       LTP  %Change\n",
       "65             MRF     496  77866.60     0.43\n",
       "82   Shree Cements     570  23692.00    -0.06\n",
       "19           Bosch    2560  13140.10    -0.40\n",
       "66          Nestle    5095  18403.00     0.22\n",
       "9       Bajaj Auto   12183   3327.00     1.11\n",
       "84         Siemens   12853   1538.25     0.09\n",
       "21       Britannia   15183   3734.30    -0.12\n",
       "63   Maruti Suzuki   15710   7732.25    -0.03\n",
       "32  Dr Reddys Labs   20973   5015.90    -0.71\n",
       "11   Bajaj Finserv   21381   8998.65    -0.31"
      ]
     },
     "execution_count": 94,
     "metadata": {},
     "output_type": "execute_result"
    }
   ],
   "source": [
    "df[['Company','Volume','LTP', '%Change']].sort_values('Volume', ascending=False).nsmallest(10, 'Volume')"
   ]
  },
  {
   "cell_type": "markdown",
   "metadata": {},
   "source": [
    "### Top 10 Stocks with Most activity"
   ]
  },
  {
   "cell_type": "code",
   "execution_count": 93,
   "metadata": {},
   "outputs": [
    {
     "data": {
      "text/html": [
       "<div>\n",
       "<style scoped>\n",
       "    .dataframe tbody tr th:only-of-type {\n",
       "        vertical-align: middle;\n",
       "    }\n",
       "\n",
       "    .dataframe tbody tr th {\n",
       "        vertical-align: top;\n",
       "    }\n",
       "\n",
       "    .dataframe thead th {\n",
       "        text-align: right;\n",
       "    }\n",
       "</style>\n",
       "<table border=\"1\" class=\"dataframe\">\n",
       "  <thead>\n",
       "    <tr style=\"text-align: right;\">\n",
       "      <th></th>\n",
       "      <th>Company</th>\n",
       "      <th>Volume</th>\n",
       "      <th>LTP</th>\n",
       "      <th>%Change</th>\n",
       "    </tr>\n",
       "  </thead>\n",
       "  <tbody>\n",
       "    <tr>\n",
       "      <th>99</th>\n",
       "      <td>Vodafone Idea</td>\n",
       "      <td>129928357</td>\n",
       "      <td>10.11</td>\n",
       "      <td>2.64</td>\n",
       "    </tr>\n",
       "    <tr>\n",
       "      <th>80</th>\n",
       "      <td>SAIL</td>\n",
       "      <td>8113246</td>\n",
       "      <td>57.75</td>\n",
       "      <td>3.59</td>\n",
       "    </tr>\n",
       "    <tr>\n",
       "      <th>69</th>\n",
       "      <td>ONGC</td>\n",
       "      <td>7143570</td>\n",
       "      <td>96.80</td>\n",
       "      <td>5.68</td>\n",
       "    </tr>\n",
       "    <tr>\n",
       "      <th>16</th>\n",
       "      <td>Bharti Infratel</td>\n",
       "      <td>6928014</td>\n",
       "      <td>244.90</td>\n",
       "      <td>-0.37</td>\n",
       "    </tr>\n",
       "    <tr>\n",
       "      <th>12</th>\n",
       "      <td>Bank of Baroda</td>\n",
       "      <td>5238335</td>\n",
       "      <td>65.45</td>\n",
       "      <td>-1.36</td>\n",
       "    </tr>\n",
       "    <tr>\n",
       "      <th>17</th>\n",
       "      <td>BHEL</td>\n",
       "      <td>4712191</td>\n",
       "      <td>35.95</td>\n",
       "      <td>0.70</td>\n",
       "    </tr>\n",
       "    <tr>\n",
       "      <th>73</th>\n",
       "      <td>PNB</td>\n",
       "      <td>4594582</td>\n",
       "      <td>40.50</td>\n",
       "      <td>5.61</td>\n",
       "    </tr>\n",
       "    <tr>\n",
       "      <th>53</th>\n",
       "      <td>ITC</td>\n",
       "      <td>3893719</td>\n",
       "      <td>216.20</td>\n",
       "      <td>1.65</td>\n",
       "    </tr>\n",
       "    <tr>\n",
       "      <th>81</th>\n",
       "      <td>SBI</td>\n",
       "      <td>3745846</td>\n",
       "      <td>272.45</td>\n",
       "      <td>1.06</td>\n",
       "    </tr>\n",
       "    <tr>\n",
       "      <th>52</th>\n",
       "      <td>IOC</td>\n",
       "      <td>3583246</td>\n",
       "      <td>93.85</td>\n",
       "      <td>1.46</td>\n",
       "    </tr>\n",
       "  </tbody>\n",
       "</table>\n",
       "</div>"
      ],
      "text/plain": [
       "            Company     Volume     LTP  %Change\n",
       "99    Vodafone Idea  129928357   10.11     2.64\n",
       "80             SAIL    8113246   57.75     3.59\n",
       "69             ONGC    7143570   96.80     5.68\n",
       "16  Bharti Infratel    6928014  244.90    -0.37\n",
       "12   Bank of Baroda    5238335   65.45    -1.36\n",
       "17             BHEL    4712191   35.95     0.70\n",
       "73              PNB    4594582   40.50     5.61\n",
       "53              ITC    3893719  216.20     1.65\n",
       "81              SBI    3745846  272.45     1.06\n",
       "52              IOC    3583246   93.85     1.46"
      ]
     },
     "execution_count": 93,
     "metadata": {},
     "output_type": "execute_result"
    }
   ],
   "source": [
    "df[['Company','Volume','LTP', '%Change']].sort_values('Volume', ascending=False).nlargest(10, 'Volume')"
   ]
  },
  {
   "cell_type": "markdown",
   "metadata": {},
   "source": [
    "# Stocks Value (on that given day)"
   ]
  },
  {
   "cell_type": "markdown",
   "metadata": {},
   "source": [
    "- A new column was created with the name 'Value' as VOLUME*LTP/10000\n",
    "- VOLUME*LTP gives us the movement in value while it is divided by 10000 to make it easier to compare and read"
   ]
  },
  {
   "cell_type": "markdown",
   "metadata": {},
   "source": [
    "### 10 Stocks with least traded value"
   ]
  },
  {
   "cell_type": "code",
   "execution_count": 92,
   "metadata": {},
   "outputs": [
    {
     "data": {
      "text/html": [
       "<div>\n",
       "<style scoped>\n",
       "    .dataframe tbody tr th:only-of-type {\n",
       "        vertical-align: middle;\n",
       "    }\n",
       "\n",
       "    .dataframe tbody tr th {\n",
       "        vertical-align: top;\n",
       "    }\n",
       "\n",
       "    .dataframe thead th {\n",
       "        text-align: right;\n",
       "    }\n",
       "</style>\n",
       "<table border=\"1\" class=\"dataframe\">\n",
       "  <thead>\n",
       "    <tr style=\"text-align: right;\">\n",
       "      <th></th>\n",
       "      <th>Company</th>\n",
       "      <th>Volume</th>\n",
       "      <th>LTP</th>\n",
       "      <th>Value</th>\n",
       "      <th>%Change</th>\n",
       "    </tr>\n",
       "  </thead>\n",
       "  <tbody>\n",
       "    <tr>\n",
       "      <th>77</th>\n",
       "      <td>Rel Capital</td>\n",
       "      <td>547805</td>\n",
       "      <td>12.68</td>\n",
       "      <td>694.616740</td>\n",
       "      <td>4.97</td>\n",
       "    </tr>\n",
       "    <tr>\n",
       "      <th>82</th>\n",
       "      <td>Shree Cements</td>\n",
       "      <td>570</td>\n",
       "      <td>23692.00</td>\n",
       "      <td>1350.444000</td>\n",
       "      <td>-0.06</td>\n",
       "    </tr>\n",
       "    <tr>\n",
       "      <th>94</th>\n",
       "      <td>TML-D</td>\n",
       "      <td>252045</td>\n",
       "      <td>74.70</td>\n",
       "      <td>1882.776150</td>\n",
       "      <td>-0.13</td>\n",
       "    </tr>\n",
       "    <tr>\n",
       "      <th>84</th>\n",
       "      <td>Siemens</td>\n",
       "      <td>12853</td>\n",
       "      <td>1538.25</td>\n",
       "      <td>1977.112725</td>\n",
       "      <td>0.09</td>\n",
       "    </tr>\n",
       "    <tr>\n",
       "      <th>28</th>\n",
       "      <td>Cummins</td>\n",
       "      <td>41504</td>\n",
       "      <td>583.50</td>\n",
       "      <td>2421.758400</td>\n",
       "      <td>0.29</td>\n",
       "    </tr>\n",
       "    <tr>\n",
       "      <th>22</th>\n",
       "      <td>Cadila Health</td>\n",
       "      <td>56672</td>\n",
       "      <td>466.70</td>\n",
       "      <td>2644.882240</td>\n",
       "      <td>-0.53</td>\n",
       "    </tr>\n",
       "    <tr>\n",
       "      <th>38</th>\n",
       "      <td>Grasim</td>\n",
       "      <td>31393</td>\n",
       "      <td>902.10</td>\n",
       "      <td>2831.962530</td>\n",
       "      <td>-0.85</td>\n",
       "    </tr>\n",
       "    <tr>\n",
       "      <th>79</th>\n",
       "      <td>Reliance Infra</td>\n",
       "      <td>1012981</td>\n",
       "      <td>28.75</td>\n",
       "      <td>2912.320375</td>\n",
       "      <td>9.94</td>\n",
       "    </tr>\n",
       "    <tr>\n",
       "      <th>49</th>\n",
       "      <td>IGL</td>\n",
       "      <td>65467</td>\n",
       "      <td>482.15</td>\n",
       "      <td>3156.491405</td>\n",
       "      <td>0.09</td>\n",
       "    </tr>\n",
       "    <tr>\n",
       "      <th>36</th>\n",
       "      <td>Glenmark</td>\n",
       "      <td>59944</td>\n",
       "      <td>526.85</td>\n",
       "      <td>3158.149640</td>\n",
       "      <td>-0.96</td>\n",
       "    </tr>\n",
       "  </tbody>\n",
       "</table>\n",
       "</div>"
      ],
      "text/plain": [
       "           Company   Volume       LTP        Value  %Change\n",
       "77     Rel Capital   547805     12.68   694.616740     4.97\n",
       "82   Shree Cements      570  23692.00  1350.444000    -0.06\n",
       "94           TML-D   252045     74.70  1882.776150    -0.13\n",
       "84         Siemens    12853   1538.25  1977.112725     0.09\n",
       "28         Cummins    41504    583.50  2421.758400     0.29\n",
       "22   Cadila Health    56672    466.70  2644.882240    -0.53\n",
       "38          Grasim    31393    902.10  2831.962530    -0.85\n",
       "79  Reliance Infra  1012981     28.75  2912.320375     9.94\n",
       "49             IGL    65467    482.15  3156.491405     0.09\n",
       "36        Glenmark    59944    526.85  3158.149640    -0.96"
      ]
     },
     "execution_count": 92,
     "metadata": {},
     "output_type": "execute_result"
    }
   ],
   "source": [
    "df['Value']= df.Volume* df.LTP/10000\n",
    "df[['Company','Volume','LTP', 'Value','%Change']].sort_values('Value', ascending=False).nsmallest(10, 'Value')"
   ]
  },
  {
   "cell_type": "markdown",
   "metadata": {},
   "source": [
    "### 10 Stocks with most traded value"
   ]
  },
  {
   "cell_type": "code",
   "execution_count": 91,
   "metadata": {},
   "outputs": [
    {
     "data": {
      "text/html": [
       "<div>\n",
       "<style scoped>\n",
       "    .dataframe tbody tr th:only-of-type {\n",
       "        vertical-align: middle;\n",
       "    }\n",
       "\n",
       "    .dataframe tbody tr th {\n",
       "        vertical-align: top;\n",
       "    }\n",
       "\n",
       "    .dataframe thead th {\n",
       "        text-align: right;\n",
       "    }\n",
       "</style>\n",
       "<table border=\"1\" class=\"dataframe\">\n",
       "  <thead>\n",
       "    <tr style=\"text-align: right;\">\n",
       "      <th></th>\n",
       "      <th>Company</th>\n",
       "      <th>Volume</th>\n",
       "      <th>LTP</th>\n",
       "      <th>Value</th>\n",
       "      <th>%Change</th>\n",
       "    </tr>\n",
       "  </thead>\n",
       "  <tbody>\n",
       "    <tr>\n",
       "      <th>41</th>\n",
       "      <td>HDFC</td>\n",
       "      <td>870878</td>\n",
       "      <td>2296.10</td>\n",
       "      <td>199962.297580</td>\n",
       "      <td>0.28</td>\n",
       "    </tr>\n",
       "    <tr>\n",
       "      <th>16</th>\n",
       "      <td>Bharti Infratel</td>\n",
       "      <td>6928014</td>\n",
       "      <td>244.90</td>\n",
       "      <td>169667.062860</td>\n",
       "      <td>-0.37</td>\n",
       "    </tr>\n",
       "    <tr>\n",
       "      <th>78</th>\n",
       "      <td>Reliance</td>\n",
       "      <td>689028</td>\n",
       "      <td>2005.60</td>\n",
       "      <td>138191.455680</td>\n",
       "      <td>-0.08</td>\n",
       "    </tr>\n",
       "    <tr>\n",
       "      <th>99</th>\n",
       "      <td>Vodafone Idea</td>\n",
       "      <td>129928357</td>\n",
       "      <td>10.11</td>\n",
       "      <td>131357.568927</td>\n",
       "      <td>2.64</td>\n",
       "    </tr>\n",
       "    <tr>\n",
       "      <th>97</th>\n",
       "      <td>UPL</td>\n",
       "      <td>2572557</td>\n",
       "      <td>434.80</td>\n",
       "      <td>111854.778360</td>\n",
       "      <td>-0.83</td>\n",
       "    </tr>\n",
       "    <tr>\n",
       "      <th>81</th>\n",
       "      <td>SBI</td>\n",
       "      <td>3745846</td>\n",
       "      <td>272.45</td>\n",
       "      <td>102055.574270</td>\n",
       "      <td>1.06</td>\n",
       "    </tr>\n",
       "    <tr>\n",
       "      <th>53</th>\n",
       "      <td>ITC</td>\n",
       "      <td>3893719</td>\n",
       "      <td>216.20</td>\n",
       "      <td>84182.204780</td>\n",
       "      <td>1.65</td>\n",
       "    </tr>\n",
       "    <tr>\n",
       "      <th>69</th>\n",
       "      <td>ONGC</td>\n",
       "      <td>7143570</td>\n",
       "      <td>96.80</td>\n",
       "      <td>69149.757600</td>\n",
       "      <td>5.68</td>\n",
       "    </tr>\n",
       "    <tr>\n",
       "      <th>47</th>\n",
       "      <td>ICICI Bank</td>\n",
       "      <td>1201141</td>\n",
       "      <td>515.20</td>\n",
       "      <td>61882.784320</td>\n",
       "      <td>1.63</td>\n",
       "    </tr>\n",
       "    <tr>\n",
       "      <th>42</th>\n",
       "      <td>HDFC Bank</td>\n",
       "      <td>432604</td>\n",
       "      <td>1382.20</td>\n",
       "      <td>59794.524880</td>\n",
       "      <td>-0.26</td>\n",
       "    </tr>\n",
       "  </tbody>\n",
       "</table>\n",
       "</div>"
      ],
      "text/plain": [
       "            Company     Volume      LTP          Value  %Change\n",
       "41             HDFC     870878  2296.10  199962.297580     0.28\n",
       "16  Bharti Infratel    6928014   244.90  169667.062860    -0.37\n",
       "78         Reliance     689028  2005.60  138191.455680    -0.08\n",
       "99    Vodafone Idea  129928357    10.11  131357.568927     2.64\n",
       "97              UPL    2572557   434.80  111854.778360    -0.83\n",
       "81              SBI    3745846   272.45  102055.574270     1.06\n",
       "53              ITC    3893719   216.20   84182.204780     1.65\n",
       "69             ONGC    7143570    96.80   69149.757600     5.68\n",
       "47       ICICI Bank    1201141   515.20   61882.784320     1.63\n",
       "42        HDFC Bank     432604  1382.20   59794.524880    -0.26"
      ]
     },
     "execution_count": 91,
     "metadata": {},
     "output_type": "execute_result"
    }
   ],
   "source": [
    "df[['Company','Volume','LTP', 'Value','%Change']].sort_values('Value', ascending=False).nlargest(10, 'Value')"
   ]
  }
 ],
 "metadata": {
  "kernelspec": {
   "display_name": "Python 3",
   "language": "python",
   "name": "python3"
  },
  "language_info": {
   "codemirror_mode": {
    "name": "ipython",
    "version": 3
   },
   "file_extension": ".py",
   "mimetype": "text/x-python",
   "name": "python",
   "nbconvert_exporter": "python",
   "pygments_lexer": "ipython3",
   "version": "3.8.5"
  }
 },
 "nbformat": 4,
 "nbformat_minor": 2
}
